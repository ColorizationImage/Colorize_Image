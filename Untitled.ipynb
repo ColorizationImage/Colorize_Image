{
 "cells": [
  {
   "cell_type": "code",
   "execution_count": 2,
   "id": "0471465a",
   "metadata": {},
   "outputs": [
    {
     "name": "stderr",
     "output_type": "stream",
     "text": [
      "usage: ipykernel_launcher.py [-h] [-i IMG_PATH] [--use_gpu] [-o SAVE_PREFIX]\n",
      "ipykernel_launcher.py: error: unrecognized arguments: -f C:\\Users\\gaith\\AppData\\Roaming\\jupyter\\runtime\\kernel-e551c9ee-fbc2-4ad6-a9e4-41a9d24a1256.json\n"
     ]
    },
    {
     "ename": "SystemExit",
     "evalue": "2",
     "output_type": "error",
     "traceback": [
      "An exception has occurred, use %tb to see the full traceback.\n",
      "\u001b[1;31mSystemExit\u001b[0m\u001b[1;31m:\u001b[0m 2\n"
     ]
    }
   ],
   "source": [
    "import os\n",
    "import torch\n",
    "import argparse\n",
    "import matplotlib.pyplot as plt\n",
    "from flask import Flask, send_file,request\n",
    "from colorizers import *\n",
    "from demo_release import load_img, preprocess_img, postprocess_tens\n",
    "\n",
    "app = Flask(__name__)\n",
    "\n",
    "# Load colorizers\n",
    "colorizer_eccv16 = eccv16(pretrained=True).eval()\n",
    "colorizer_siggraph17 = siggraph17(pretrained=True).eval()\n",
    "\n",
    "@app.route('/', methods=['GET','POST'])\n",
    "def colorize():\n",
    "    # Set the image path\n",
    "    #image_path = r'C:\\Users\\gaith\\Desktop\\colorization\\imgs\\happy_dog.jpg'\n",
    "    image_path = request.files['image']\n",
    "    # Load and preprocess the image\n",
    "    img = load_img(image_path)\n",
    "    (tens_l_orig, tens_l_rs) = preprocess_img(img, HW=(256, 256))\n",
    "\n",
    "    # Colorize the image\n",
    "    out_img_eccv16 = postprocess_tens(tens_l_orig, colorizer_eccv16(tens_l_rs))\n",
    "    out_img_siggraph17 = postprocess_tens(tens_l_orig, colorizer_siggraph17(tens_l_rs))\n",
    "\n",
    "    # Save the colorized image to the desktop\n",
    "    desktop = os.path.expanduser(\"~/Desktop\")\n",
    "    output_path = os.path.join(desktop, \"colorized_image.png\")\n",
    "    plt.imsave(output_path, out_img_eccv16)\n",
    "\n",
    "    # Send the colorized image as a response\n",
    "    return send_file(output_path, mimetype='image/png')\n",
    "\n",
    "if __name__ == '__main__':\n",
    "    app.run(host='0.0.0.0', port=80)"
   ]
  },
  {
   "cell_type": "code",
   "execution_count": null,
   "id": "d1807803",
   "metadata": {},
   "outputs": [],
   "source": []
  }
 ],
 "metadata": {
  "kernelspec": {
   "display_name": "Python 3 (ipykernel)",
   "language": "python",
   "name": "python3"
  },
  "language_info": {
   "codemirror_mode": {
    "name": "ipython",
    "version": 3
   },
   "file_extension": ".py",
   "mimetype": "text/x-python",
   "name": "python",
   "nbconvert_exporter": "python",
   "pygments_lexer": "ipython3",
   "version": "3.11.4"
  }
 },
 "nbformat": 4,
 "nbformat_minor": 5
}
